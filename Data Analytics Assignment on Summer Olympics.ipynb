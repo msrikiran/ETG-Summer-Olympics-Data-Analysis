{
  "nbformat": 4,
  "nbformat_minor": 5,
  "metadata": {
    "kernelspec": {
      "display_name": "Python 3",
      "language": "python",
      "name": "python3"
    },
    "language_info": {
      "codemirror_mode": {
        "name": "ipython",
        "version": 3
      },
      "file_extension": ".py",
      "mimetype": "text/x-python",
      "name": "python",
      "nbconvert_exporter": "python",
      "pygments_lexer": "ipython3",
      "version": "3.8.8"
    },
    "colab": {
      "name": "Data Analytics Assignment on Summer Olympics.ipynb",
      "provenance": []
    }
  },
  "cells": [
    {
      "cell_type": "markdown",
      "metadata": {
        "id": "27c1250a"
      },
      "source": [
        "# SUMMER OLYMPICS DATA ANALYSIS ASSIGNMENT"
      ],
      "id": "27c1250a"
    },
    {
      "cell_type": "markdown",
      "metadata": {
        "id": "71f95734"
      },
      "source": [
        "## Importing the libraries and dataset"
      ],
      "id": "71f95734"
    },
    {
      "cell_type": "code",
      "metadata": {
        "colab": {
          "base_uri": "https://localhost:8080/",
          "height": 204
        },
        "id": "35caa869",
        "outputId": "0217bce8-e02d-49c2-d49a-e919480c27cf"
      },
      "source": [
        "import pandas as pd\n",
        "import numpy as np\n",
        "import matplotlib.pyplot as plt\n",
        "import seaborn as sns\n",
        "\n",
        "data = pd.read_csv(\"/content/Summer_olympics.csv\")\n",
        "data.head()"
      ],
      "id": "35caa869",
      "execution_count": 1,
      "outputs": [
        {
          "output_type": "execute_result",
          "data": {
            "text/html": [
              "<div>\n",
              "<style scoped>\n",
              "    .dataframe tbody tr th:only-of-type {\n",
              "        vertical-align: middle;\n",
              "    }\n",
              "\n",
              "    .dataframe tbody tr th {\n",
              "        vertical-align: top;\n",
              "    }\n",
              "\n",
              "    .dataframe thead th {\n",
              "        text-align: right;\n",
              "    }\n",
              "</style>\n",
              "<table border=\"1\" class=\"dataframe\">\n",
              "  <thead>\n",
              "    <tr style=\"text-align: right;\">\n",
              "      <th></th>\n",
              "      <th>Year</th>\n",
              "      <th>City</th>\n",
              "      <th>Sport</th>\n",
              "      <th>Discipline</th>\n",
              "      <th>Athlete</th>\n",
              "      <th>Country</th>\n",
              "      <th>Gender</th>\n",
              "      <th>Event</th>\n",
              "      <th>Medal</th>\n",
              "    </tr>\n",
              "  </thead>\n",
              "  <tbody>\n",
              "    <tr>\n",
              "      <th>0</th>\n",
              "      <td>1896</td>\n",
              "      <td>Athens</td>\n",
              "      <td>Aquatics</td>\n",
              "      <td>Swimming</td>\n",
              "      <td>HAJOS, Alfred</td>\n",
              "      <td>HUN</td>\n",
              "      <td>Men</td>\n",
              "      <td>100M Freestyle</td>\n",
              "      <td>Gold</td>\n",
              "    </tr>\n",
              "    <tr>\n",
              "      <th>1</th>\n",
              "      <td>1896</td>\n",
              "      <td>Athens</td>\n",
              "      <td>Aquatics</td>\n",
              "      <td>Swimming</td>\n",
              "      <td>HERSCHMANN, Otto</td>\n",
              "      <td>AUT</td>\n",
              "      <td>Men</td>\n",
              "      <td>100M Freestyle</td>\n",
              "      <td>Silver</td>\n",
              "    </tr>\n",
              "    <tr>\n",
              "      <th>2</th>\n",
              "      <td>1896</td>\n",
              "      <td>Athens</td>\n",
              "      <td>Aquatics</td>\n",
              "      <td>Swimming</td>\n",
              "      <td>DRIVAS, Dimitrios</td>\n",
              "      <td>GRE</td>\n",
              "      <td>Men</td>\n",
              "      <td>100M Freestyle For Sailors</td>\n",
              "      <td>Bronze</td>\n",
              "    </tr>\n",
              "    <tr>\n",
              "      <th>3</th>\n",
              "      <td>1896</td>\n",
              "      <td>Athens</td>\n",
              "      <td>Aquatics</td>\n",
              "      <td>Swimming</td>\n",
              "      <td>MALOKINIS, Ioannis</td>\n",
              "      <td>GRE</td>\n",
              "      <td>Men</td>\n",
              "      <td>100M Freestyle For Sailors</td>\n",
              "      <td>Gold</td>\n",
              "    </tr>\n",
              "    <tr>\n",
              "      <th>4</th>\n",
              "      <td>1896</td>\n",
              "      <td>Athens</td>\n",
              "      <td>Aquatics</td>\n",
              "      <td>Swimming</td>\n",
              "      <td>CHASAPIS, Spiridon</td>\n",
              "      <td>GRE</td>\n",
              "      <td>Men</td>\n",
              "      <td>100M Freestyle For Sailors</td>\n",
              "      <td>Silver</td>\n",
              "    </tr>\n",
              "  </tbody>\n",
              "</table>\n",
              "</div>"
            ],
            "text/plain": [
              "   Year    City     Sport  ... Gender                       Event   Medal\n",
              "0  1896  Athens  Aquatics  ...    Men              100M Freestyle    Gold\n",
              "1  1896  Athens  Aquatics  ...    Men              100M Freestyle  Silver\n",
              "2  1896  Athens  Aquatics  ...    Men  100M Freestyle For Sailors  Bronze\n",
              "3  1896  Athens  Aquatics  ...    Men  100M Freestyle For Sailors    Gold\n",
              "4  1896  Athens  Aquatics  ...    Men  100M Freestyle For Sailors  Silver\n",
              "\n",
              "[5 rows x 9 columns]"
            ]
          },
          "metadata": {},
          "execution_count": 1
        }
      ]
    },
    {
      "cell_type": "code",
      "metadata": {
        "colab": {
          "base_uri": "https://localhost:8080/"
        },
        "id": "62b898b3",
        "outputId": "48c6fab4-a4fa-436f-96e9-358626d2d8bc"
      },
      "source": [
        "data.shape"
      ],
      "id": "62b898b3",
      "execution_count": 2,
      "outputs": [
        {
          "output_type": "execute_result",
          "data": {
            "text/plain": [
              "(31165, 9)"
            ]
          },
          "metadata": {},
          "execution_count": 2
        }
      ]
    },
    {
      "cell_type": "markdown",
      "metadata": {
        "id": "a1c00fd9"
      },
      "source": [
        "# Questions and Solutions:"
      ],
      "id": "a1c00fd9"
    },
    {
      "cell_type": "markdown",
      "metadata": {
        "id": "22643257"
      },
      "source": [
        "## 1) In how many cities Summer Olympics is held so far? "
      ],
      "id": "22643257"
    },
    {
      "cell_type": "code",
      "metadata": {
        "colab": {
          "base_uri": "https://localhost:8080/"
        },
        "id": "3e02b893",
        "outputId": "473150a0-6719-4b5c-c33e-fd295f30bb8e"
      },
      "source": [
        "ans1 =len(data.City.unique())\n",
        "\n",
        "print(\"The total number of cities where Summer Olympics is held :\", ans1)"
      ],
      "id": "3e02b893",
      "execution_count": 3,
      "outputs": [
        {
          "output_type": "stream",
          "name": "stdout",
          "text": [
            "The total number of cities where Summer Olympics is held : 22\n"
          ]
        }
      ]
    },
    {
      "cell_type": "markdown",
      "metadata": {
        "id": "011f9fbf"
      },
      "source": [
        "## 2) Which sport is having most number of Gold Medals so far? (Top 5)"
      ],
      "id": "011f9fbf"
    },
    {
      "cell_type": "code",
      "metadata": {
        "colab": {
          "base_uri": "https://localhost:8080/"
        },
        "id": "60f3b08d",
        "outputId": "32f9a925-ecd1-45f7-d8cf-f04429d0b07f"
      },
      "source": [
        "print(\"Top 5 sports having most no. of gold medals so far:\")\n",
        "data[data['Medal']=='Gold']['Sport'].value_counts().head()"
      ],
      "id": "60f3b08d",
      "execution_count": 4,
      "outputs": [
        {
          "output_type": "stream",
          "name": "stdout",
          "text": [
            "Top 5 sports having most no. of gold medals so far:\n"
          ]
        },
        {
          "output_type": "execute_result",
          "data": {
            "text/plain": [
              "Aquatics      1421\n",
              "Athletics     1215\n",
              "Rowing         890\n",
              "Gymnastics     820\n",
              "Fencing        552\n",
              "Name: Sport, dtype: int64"
            ]
          },
          "metadata": {},
          "execution_count": 4
        }
      ]
    },
    {
      "cell_type": "code",
      "metadata": {
        "colab": {
          "base_uri": "https://localhost:8080/"
        },
        "id": "708861a5",
        "outputId": "668d4af7-c9c1-464e-be29-5e3ae80e2287"
      },
      "source": [
        "#2nd alternative\n",
        "print(\"Top 5 sports having most no. of gold medals so far:\")\n",
        "data[data['Medal']=='Gold'].groupby('Sport')['Year'].count().sort_values(ascending = False).head()"
      ],
      "id": "708861a5",
      "execution_count": 5,
      "outputs": [
        {
          "output_type": "stream",
          "name": "stdout",
          "text": [
            "Top 5 sports having most no. of gold medals so far:\n"
          ]
        },
        {
          "output_type": "execute_result",
          "data": {
            "text/plain": [
              "Sport\n",
              "Aquatics      1421\n",
              "Athletics     1215\n",
              "Rowing         890\n",
              "Gymnastics     820\n",
              "Fencing        552\n",
              "Name: Year, dtype: int64"
            ]
          },
          "metadata": {},
          "execution_count": 5
        }
      ]
    },
    {
      "cell_type": "code",
      "metadata": {
        "colab": {
          "base_uri": "https://localhost:8080/",
          "height": 361
        },
        "id": "0b60c21b",
        "outputId": "9aa7ef68-1ddf-481c-8ef3-84c0506dd896"
      },
      "source": [
        "data[data['Medal']=='Gold'].groupby('Sport')['Year'].count().sort_values(ascending = False).head().plot(kind = 'bar', color = 'blue', ylabel = 'No.of gold medals', title = 'print(\"Top 5 sports having most no. of gold medals\")')"
      ],
      "id": "0b60c21b",
      "execution_count": 6,
      "outputs": [
        {
          "output_type": "execute_result",
          "data": {
            "text/plain": [
              "<matplotlib.axes._subplots.AxesSubplot at 0x7f16929fa7d0>"
            ]
          },
          "metadata": {},
          "execution_count": 6
        },
        {
          "output_type": "display_data",
          "data": {
            "image/png": "[encoded data removed]",
            "text/plain": [
              "<Figure size 432x288 with 1 Axes>"
            ]
          },
          "metadata": {
            "needs_background": "light"
          }
        }
      ]
    },
    {
      "cell_type": "markdown",
      "metadata": {
        "id": "90bf355e"
      },
      "source": [
        "## 3) Which sport is having most number of medals so far? (Top 5)"
      ],
      "id": "90bf355e"
    },
    {
      "cell_type": "code",
      "metadata": {
        "colab": {
          "base_uri": "https://localhost:8080/"
        },
        "id": "322b25f4",
        "outputId": "197fc405-8b68-40c8-99cb-92dd1cac2a1d"
      },
      "source": [
        "print(\"Top 5 sports having most no. of medals so far:\")\n",
        "data['Sport'].value_counts().head()"
      ],
      "id": "322b25f4",
      "execution_count": 7,
      "outputs": [
        {
          "output_type": "stream",
          "name": "stdout",
          "text": [
            "Top 5 sports having most no. of medals so far:\n"
          ]
        },
        {
          "output_type": "execute_result",
          "data": {
            "text/plain": [
              "Aquatics      4170\n",
              "Athletics     3638\n",
              "Rowing        2667\n",
              "Gymnastics    2307\n",
              "Fencing       1613\n",
              "Name: Sport, dtype: int64"
            ]
          },
          "metadata": {},
          "execution_count": 7
        }
      ]
    },
    {
      "cell_type": "code",
      "metadata": {
        "colab": {
          "base_uri": "https://localhost:8080/"
        },
        "id": "daa71931",
        "outputId": "99faccc7-8e21-4eb0-8e06-5c3c46994a1b"
      },
      "source": [
        "#2nd alternative\n",
        "print(\"Top 5 sports having most no. of gold medals so far:\")\n",
        "data.groupby('Sport').count()['Medal'].sort_values(ascending = False).head()"
      ],
      "id": "daa71931",
      "execution_count": 8,
      "outputs": [
        {
          "output_type": "stream",
          "name": "stdout",
          "text": [
            "Top 5 sports having most no. of gold medals so far:\n"
          ]
        },
        {
          "output_type": "execute_result",
          "data": {
            "text/plain": [
              "Sport\n",
              "Aquatics      4170\n",
              "Athletics     3638\n",
              "Rowing        2667\n",
              "Gymnastics    2307\n",
              "Fencing       1613\n",
              "Name: Medal, dtype: int64"
            ]
          },
          "metadata": {},
          "execution_count": 8
        }
      ]
    },
    {
      "cell_type": "code",
      "metadata": {
        "colab": {
          "base_uri": "https://localhost:8080/",
          "height": 361
        },
        "id": "31efd4af",
        "outputId": "dc5f6adc-4237-472f-f5d7-3d73524223c3"
      },
      "source": [
        "data.groupby('Sport').count()['Medal'].sort_values(ascending = False).head().plot(kind = 'bar', title = 'print(\"Top 5 sports having most no. of medals so far:\")', ylabel = 'no. of medals')"
      ],
      "id": "31efd4af",
      "execution_count": 9,
      "outputs": [
        {
          "output_type": "execute_result",
          "data": {
            "text/plain": [
              "<matplotlib.axes._subplots.AxesSubplot at 0x7f16928e0dd0>"
            ]
          },
          "metadata": {},
          "execution_count": 9
        },
        {
          "output_type": "display_data",
          "data": {
            "image/png": "[encoded data removed]",
            "text/plain": [
              "<Figure size 432x288 with 1 Axes>"
            ]
          },
          "metadata": {
            "needs_background": "light"
          }
        }
      ]
    },
    {
      "cell_type": "markdown",
      "metadata": {
        "id": "7a759383"
      },
      "source": [
        "## 4) Which player has won most number of medals? (Top 5)"
      ],
      "id": "7a759383"
    },
    {
      "cell_type": "code",
      "metadata": {
        "colab": {
          "base_uri": "https://localhost:8080/"
        },
        "id": "23e25b59",
        "outputId": "c632bbbe-7eeb-46c7-81d4-a281baaa30e5"
      },
      "source": [
        "print(\"Top 5 players who won most number of medals:\")\n",
        "data['Athlete'].value_counts().head()"
      ],
      "id": "23e25b59",
      "execution_count": 10,
      "outputs": [
        {
          "output_type": "stream",
          "name": "stdout",
          "text": [
            "Top 5 players who won most number of medals:\n"
          ]
        },
        {
          "output_type": "execute_result",
          "data": {
            "text/plain": [
              "PHELPS, Michael         22\n",
              "LATYNINA, Larisa        18\n",
              "ANDRIANOV, Nikolay      15\n",
              "SHAKHLIN, Boris         13\n",
              "MANGIAROTTI, Edoardo    13\n",
              "Name: Athlete, dtype: int64"
            ]
          },
          "metadata": {},
          "execution_count": 10
        }
      ]
    },
    {
      "cell_type": "code",
      "metadata": {
        "colab": {
          "base_uri": "https://localhost:8080/"
        },
        "id": "d638f1b5",
        "outputId": "664a9c91-5759-44ad-9d4c-74c9d1dfbe55"
      },
      "source": [
        "#2nd alternative\n",
        "print(\"Top 5 players who won most number of medals:\")\n",
        "data.groupby('Athlete').count()['Medal'].sort_values(ascending= False).head()"
      ],
      "id": "d638f1b5",
      "execution_count": 11,
      "outputs": [
        {
          "output_type": "stream",
          "name": "stdout",
          "text": [
            "Top 5 players who won most number of medals:\n"
          ]
        },
        {
          "output_type": "execute_result",
          "data": {
            "text/plain": [
              "Athlete\n",
              "PHELPS, Michael         22\n",
              "LATYNINA, Larisa        18\n",
              "ANDRIANOV, Nikolay      15\n",
              "MANGIAROTTI, Edoardo    13\n",
              "SHAKHLIN, Boris         13\n",
              "Name: Medal, dtype: int64"
            ]
          },
          "metadata": {},
          "execution_count": 11
        }
      ]
    },
    {
      "cell_type": "code",
      "metadata": {
        "colab": {
          "base_uri": "https://localhost:8080/",
          "height": 420
        },
        "id": "08bfaf1f",
        "outputId": "273ea59c-ae42-47d2-d7fc-297ae5f2e1f5"
      },
      "source": [
        "data.groupby('Athlete').count()['Medal'].sort_values(ascending= False).head().plot(kind = 'bar', color = 'pink', title = \"Top 5 players with most number of medals\", ylabel = \"number of medals\" )"
      ],
      "id": "08bfaf1f",
      "execution_count": 12,
      "outputs": [
        {
          "output_type": "execute_result",
          "data": {
            "text/plain": [
              "<matplotlib.axes._subplots.AxesSubplot at 0x7f1692468650>"
            ]
          },
          "metadata": {},
          "execution_count": 12
        },
        {
          "output_type": "display_data",
          "data": {
            "image/png": "[encoded data removed]",
            "text/plain": [
              "<Figure size 432x288 with 1 Axes>"
            ]
          },
          "metadata": {
            "needs_background": "light"
          }
        }
      ]
    },
    {
      "cell_type": "markdown",
      "metadata": {
        "id": "b85cb68e"
      },
      "source": [
        "## 5) Which player has won most number of Gold Medals? "
      ],
      "id": "b85cb68e"
    },
    {
      "cell_type": "code",
      "metadata": {
        "colab": {
          "base_uri": "https://localhost:8080/"
        },
        "id": "186d29b2",
        "outputId": "976cbf6b-5f24-40b3-c922-079f1be69bf7"
      },
      "source": [
        "print(\"Top 5 players who won most number of gold medals:\")\n",
        "data[data['Medal']=='Gold']['Athlete'].value_counts().head()"
      ],
      "id": "186d29b2",
      "execution_count": 13,
      "outputs": [
        {
          "output_type": "stream",
          "name": "stdout",
          "text": [
            "Top 5 players who won most number of gold medals:\n"
          ]
        },
        {
          "output_type": "execute_result",
          "data": {
            "text/plain": [
              "PHELPS, Michael     18\n",
              "LATYNINA, Larisa     9\n",
              "SPITZ, Mark          9\n",
              "NURMI, Paavo         9\n",
              "LEWIS, Carl          9\n",
              "Name: Athlete, dtype: int64"
            ]
          },
          "metadata": {},
          "execution_count": 13
        }
      ]
    },
    {
      "cell_type": "code",
      "metadata": {
        "colab": {
          "base_uri": "https://localhost:8080/"
        },
        "id": "76944a5f",
        "outputId": "f587a8cd-fb7f-4c5b-d292-e6ebcdd30797"
      },
      "source": [
        "#2nd alternative\n",
        "print(\"Top 5 players who won most number of medals:\")\n",
        "data[data['Medal']=='Gold'].groupby('Athlete').count()['Medal'].sort_values(ascending= False).head()"
      ],
      "id": "76944a5f",
      "execution_count": 14,
      "outputs": [
        {
          "output_type": "stream",
          "name": "stdout",
          "text": [
            "Top 5 players who won most number of medals:\n"
          ]
        },
        {
          "output_type": "execute_result",
          "data": {
            "text/plain": [
              "Athlete\n",
              "PHELPS, Michael     18\n",
              "NURMI, Paavo         9\n",
              "SPITZ, Mark          9\n",
              "LEWIS, Carl          9\n",
              "LATYNINA, Larisa     9\n",
              "Name: Medal, dtype: int64"
            ]
          },
          "metadata": {},
          "execution_count": 14
        }
      ]
    },
    {
      "cell_type": "code",
      "metadata": {
        "colab": {
          "base_uri": "https://localhost:8080/",
          "height": 387
        },
        "id": "07567a7b",
        "outputId": "b5775258-7311-466b-a20a-99612df04a6a"
      },
      "source": [
        "data[data['Medal']=='Gold'].groupby('Athlete').count()['Medal'].sort_values(ascending= False).head().plot(kind= 'bar', color = 'Cyan', title = \"Top 5 players with most number of medals\", ylabel =\"number of gold medals\")"
      ],
      "id": "07567a7b",
      "execution_count": 15,
      "outputs": [
        {
          "output_type": "execute_result",
          "data": {
            "text/plain": [
              "<matplotlib.axes._subplots.AxesSubplot at 0x7f16923a1a90>"
            ]
          },
          "metadata": {},
          "execution_count": 15
        },
        {
          "output_type": "display_data",
          "data": {
            "image/png": "[encoded data removed]",
            "text/plain": [
              "<Figure size 432x288 with 1 Axes>"
            ]
          },
          "metadata": {
            "needs_background": "light"
          }
        }
      ]
    },
    {
      "cell_type": "markdown",
      "metadata": {
        "id": "e7a76dba"
      },
      "source": [
        "## 6) In which year India won first Gold Medal in Summer Olympics?"
      ],
      "id": "e7a76dba"
    },
    {
      "cell_type": "code",
      "metadata": {
        "colab": {
          "base_uri": "https://localhost:8080/"
        },
        "id": "e7730b41",
        "outputId": "f72b130f-0968-4516-cdbe-3eb4362bf6f3"
      },
      "source": [
        "df = data[data['Country']== 'IND']\n",
        "ans = df[df['Medal']== 'Gold']['Year'].sort_values(ascending = True).head(1).to_string(index = False)\n",
        "\n",
        "print(\"India won its first summer olympic gold medal in year '\", ans[1:], \"'.\")"
      ],
      "id": "e7730b41",
      "execution_count": 16,
      "outputs": [
        {
          "output_type": "stream",
          "name": "stdout",
          "text": [
            "India won its first summer olympic gold medal in year ' 1928 '.\n"
          ]
        }
      ]
    },
    {
      "cell_type": "markdown",
      "metadata": {
        "id": "3e97e2d0"
      },
      "source": [
        "## 7) Which event is most popular in terms on number of players? (Top 5)"
      ],
      "id": "3e97e2d0"
    },
    {
      "cell_type": "code",
      "metadata": {
        "id": "5040cd8d"
      },
      "source": [
        "df7 = []\n",
        "\n",
        "for event in data['Event'].unique():\n",
        "    df_event = data[data['Event']==event]\n",
        "    unique_athletes = len(df_event['Athlete'].unique())\n",
        "    df7.append((event, unique_athletes))\n",
        "\n",
        "# Dataframe with no. of unique Athletes per event: \n",
        "df7 = pd.DataFrame(df7, columns = ['Event', 'unique_Athletes'])"
      ],
      "id": "5040cd8d",
      "execution_count": 17,
      "outputs": []
    },
    {
      "cell_type": "code",
      "metadata": {
        "colab": {
          "base_uri": "https://localhost:8080/",
          "height": 252
        },
        "id": "b747abdb",
        "outputId": "b808e24f-bd54-4d67-9f18-69a8ae967b24"
      },
      "source": [
        "ans = df7.sort_values(by ='unique_Athletes', ascending = False).head()\n",
        "ans = ans.set_index('Event')\n",
        "\n",
        "print(\"Top 5 most popular events are:\")\n",
        "ans"
      ],
      "id": "b747abdb",
      "execution_count": 18,
      "outputs": [
        {
          "output_type": "stream",
          "name": "stdout",
          "text": [
            "Top 5 most popular events are:\n"
          ]
        },
        {
          "output_type": "execute_result",
          "data": {
            "text/html": [
              "<div>\n",
              "<style scoped>\n",
              "    .dataframe tbody tr th:only-of-type {\n",
              "        vertical-align: middle;\n",
              "    }\n",
              "\n",
              "    .dataframe tbody tr th {\n",
              "        vertical-align: top;\n",
              "    }\n",
              "\n",
              "    .dataframe thead th {\n",
              "        text-align: right;\n",
              "    }\n",
              "</style>\n",
              "<table border=\"1\" class=\"dataframe\">\n",
              "  <thead>\n",
              "    <tr style=\"text-align: right;\">\n",
              "      <th></th>\n",
              "      <th>unique_Athletes</th>\n",
              "    </tr>\n",
              "    <tr>\n",
              "      <th>Event</th>\n",
              "      <th></th>\n",
              "    </tr>\n",
              "  </thead>\n",
              "  <tbody>\n",
              "    <tr>\n",
              "      <th>Football</th>\n",
              "      <td>1357</td>\n",
              "    </tr>\n",
              "    <tr>\n",
              "      <th>Hockey</th>\n",
              "      <td>1154</td>\n",
              "    </tr>\n",
              "    <tr>\n",
              "      <th>Team Competition</th>\n",
              "      <td>975</td>\n",
              "    </tr>\n",
              "    <tr>\n",
              "      <th>Eight With Coxswain (8+)</th>\n",
              "      <td>828</td>\n",
              "    </tr>\n",
              "    <tr>\n",
              "      <th>Basketball</th>\n",
              "      <td>814</td>\n",
              "    </tr>\n",
              "  </tbody>\n",
              "</table>\n",
              "</div>"
            ],
            "text/plain": [
              "                          unique_Athletes\n",
              "Event                                    \n",
              "Football                             1357\n",
              "Hockey                               1154\n",
              "Team Competition                      975\n",
              "Eight With Coxswain (8+)              828\n",
              "Basketball                            814"
            ]
          },
          "metadata": {},
          "execution_count": 18
        }
      ]
    },
    {
      "cell_type": "code",
      "metadata": {
        "colab": {
          "base_uri": "https://localhost:8080/",
          "height": 430
        },
        "id": "3809b750",
        "outputId": "f6a20129-f6c3-4edd-901b-bf62a01dd6f6"
      },
      "source": [
        "ans.plot(kind = 'bar', color = 'orange', ylabel = \"no. of unique athletes\", title = \"Top 5 Most popular events\")"
      ],
      "id": "3809b750",
      "execution_count": 19,
      "outputs": [
        {
          "output_type": "execute_result",
          "data": {
            "text/plain": [
              "<matplotlib.axes._subplots.AxesSubplot at 0x7f16923a1f50>"
            ]
          },
          "metadata": {},
          "execution_count": 19
        },
        {
          "output_type": "display_data",
          "data": {
            "image/png": "[encoded data removed]",
            "text/plain": [
              "<Figure size 432x288 with 1 Axes>"
            ]
          },
          "metadata": {
            "needs_background": "light"
          }
        }
      ]
    },
    {
      "cell_type": "markdown",
      "metadata": {
        "id": "73481b05"
      },
      "source": [
        "## 8) Which sport is having most female Gold Medalists? (Top 5)"
      ],
      "id": "73481b05"
    },
    {
      "cell_type": "code",
      "metadata": {
        "colab": {
          "base_uri": "https://localhost:8080/"
        },
        "id": "39a7993b",
        "outputId": "515932fb-ae2b-42b4-bcc1-8ee6f4903206"
      },
      "source": [
        "print(\"Top 5 sports having most number of female gold medalists:\")\n",
        "df8 =data[data['Gender']=='Women']\n",
        "df8 = df8[df8['Medal']=='Gold']\n",
        "df8.head()\n",
        "\n",
        "df8['Sport'].value_counts().head()"
      ],
      "id": "39a7993b",
      "execution_count": 20,
      "outputs": [
        {
          "output_type": "stream",
          "name": "stdout",
          "text": [
            "Top 5 sports having most number of female gold medalists:\n"
          ]
        },
        {
          "output_type": "execute_result",
          "data": {
            "text/plain": [
              "Aquatics      589\n",
              "Athletics     389\n",
              "Gymnastics    268\n",
              "Rowing        217\n",
              "Volleyball    166\n",
              "Name: Sport, dtype: int64"
            ]
          },
          "metadata": {},
          "execution_count": 20
        }
      ]
    },
    {
      "cell_type": "code",
      "metadata": {
        "colab": {
          "base_uri": "https://localhost:8080/"
        },
        "id": "f4544623",
        "outputId": "a41192a0-2066-4a9c-c062-236b1a816b16"
      },
      "source": [
        "#2nd alternative\n",
        "print(\"Top 5 sports having most number of female gold medalists:\")\n",
        "df8.groupby('Sport')['Athlete'].count().sort_values(ascending = False).head()"
      ],
      "id": "f4544623",
      "execution_count": 21,
      "outputs": [
        {
          "output_type": "stream",
          "name": "stdout",
          "text": [
            "Top 5 sports having most number of female gold medalists:\n"
          ]
        },
        {
          "output_type": "execute_result",
          "data": {
            "text/plain": [
              "Sport\n",
              "Aquatics      589\n",
              "Athletics     389\n",
              "Gymnastics    268\n",
              "Rowing        217\n",
              "Volleyball    166\n",
              "Name: Athlete, dtype: int64"
            ]
          },
          "metadata": {},
          "execution_count": 21
        }
      ]
    },
    {
      "cell_type": "code",
      "metadata": {
        "colab": {
          "base_uri": "https://localhost:8080/",
          "height": 347
        },
        "id": "f4f6c98b",
        "outputId": "997ea691-b417-401f-9e8d-f51a3b08feeb"
      },
      "source": [
        "df8['Sport'].value_counts().head().plot(kind = 'bar', title = \"Top 5 sports with most female gold medalists:\", ylabel =' no. of female gold medalists' )"
      ],
      "id": "f4f6c98b",
      "execution_count": 22,
      "outputs": [
        {
          "output_type": "execute_result",
          "data": {
            "text/plain": [
              "<matplotlib.axes._subplots.AxesSubplot at 0x7f1692269190>"
            ]
          },
          "metadata": {},
          "execution_count": 22
        },
        {
          "output_type": "display_data",
          "data": {
            "image/png": "[encoded data removed]",
            "text/plain": [
              "<Figure size 432x288 with 1 Axes>"
            ]
          },
          "metadata": {
            "needs_background": "light"
          }
        }
      ]
    }
  ]
}